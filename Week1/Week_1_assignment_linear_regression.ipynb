{
  "nbformat": 4,
  "nbformat_minor": 0,
  "metadata": {
    "colab": {
      "provenance": []
    },
    "kernelspec": {
      "name": "python3",
      "display_name": "Python 3"
    },
    "language_info": {
      "name": "python"
    }
  },
  "cells": [
    {
      "cell_type": "code",
      "execution_count": 151,
      "metadata": {
        "id": "-zTLHrFCT6KY"
      },
      "outputs": [],
      "source": [
        "# THIS IS SOLELY THE SOLUTION OF 22B0651, YUG AGARWAL\n",
        "import numpy as np\n",
        "import pandas as pd\n",
        "import matplotlib.pyplot as plt\n",
        "\n",
        "# Aim is to predict the marks of students of the test data"
      ]
    },
    {
      "cell_type": "code",
      "source": [
        "# Use the file namd 'training data' to train the model\n",
        "\n",
        "data = pd.read_excel('Training data.xlsx')\n",
        "x_train = np.array(data.iloc[:,0:8])\n",
        "y_train = np.array(data.iloc[:,8]).reshape(-1,1)\n",
        "# print(len(x_train[:,0]))\n",
        "# print()\n",
        "\n",
        "\n",
        "# To get an idea whether to add some features or not\n",
        "# I am choosing those features which are giving a different range of marks on\n",
        "# its different feature_vlalue- internet, studytime, freetime(not much contri)\n",
        "# traveltime, absences and iq\n",
        "\n",
        "# plt.plot(x_train[:,7], y_train, '.', markersize=2)\n",
        "\n",
        "\n",
        "# Also do label encoding for features not represented in numbers\n",
        "# refer the link if not know : https://youtu.be/589nCGeWG1w?si=t2Wa7LgbUOO4RooM\n",
        "\n",
        "\n",
        "def feature_changing(x_train):\n",
        "  for i in range(x_train.shape[0]):\n",
        "    if(x_train[i,0] == 'no'):\n",
        "      x_train[i,0] = 0\n",
        "    else:\n",
        "      x_train[i,0] = 1\n",
        "  x_train = np.delete(x_train,[1,6],axis=1)\n",
        "\n",
        "  return x_train\n",
        "\n",
        "x_train = feature_changing(x_train)"
      ],
      "metadata": {
        "id": "p0KHq8ZgTpU4"
      },
      "execution_count": 152,
      "outputs": []
    },
    {
      "cell_type": "code",
      "source": [
        "def z_score(x_train):\n",
        "\n",
        "  x_std = np.std(x_train, axis=0)\n",
        "  x_mean = np.mean(x_train, axis =0)\n",
        "  x_std[x_std == 0] = 1e-10  # Replace zeros with a small number to avoid division by zero\n",
        "  x_train = (x_train - x_mean) / x_std\n",
        "\n",
        "  return x_train,x_std,x_mean"
      ],
      "metadata": {
        "id": "tYshvtYlVour"
      },
      "execution_count": 153,
      "outputs": []
    },
    {
      "cell_type": "code",
      "source": [
        "def cost(x_train,y_train,w,b):\n",
        "  m = x_train.shape[0]\n",
        "  loss = 0.0\n",
        "  # f_wb_i = np.zeros(1001, dtype = 'float64')\n",
        "  for i in range(0,999):\n",
        "    f_wb_i = np.dot(x_train[i], w) + b\n",
        "    loss = loss + (f_wb_i - y_train[i])**2\n",
        "    # f_wb_i[i] = (f_wb_i[i] - y_train[i])**2\n",
        "  # loss = np.sum(f_wb_i)\n",
        "  loss = loss / (2 * m)\n",
        "\n",
        "  return loss\n",
        "\n",
        "# w_init = np.ones(4)\n",
        "# b_init = 0.0\n",
        "# c = cost(x_train, y_train, w_init, b_init)\n",
        "# print(c)\n",
        "# print()"
      ],
      "metadata": {
        "id": "O5dOwbNbWJWa"
      },
      "execution_count": 154,
      "outputs": []
    },
    {
      "cell_type": "code",
      "source": [
        "def compute_gradient(X, y, w, b):\n",
        "    \"\"\"\n",
        "    Computes the gradient for linear regression\n",
        "    Args:\n",
        "      X (ndarray (m,n)): Data, m examples with n features\n",
        "      y (ndarray (m,)) : target values\n",
        "      w (ndarray (n,)) : model parameters\n",
        "      b (scalar)       : model parameter\n",
        "\n",
        "    Returns:\n",
        "      dj_dw (ndarray (n,)): The gradient of the cost w.r.t. the parameters w.\n",
        "      dj_db (scalar):       The gradient of the cost w.r.t. the parameter b.\n",
        "    \"\"\"\n",
        "    m,n = X.shape           #(number of examples, number of features)\n",
        "    dj_dw = np.zeros(n)\n",
        "    dj_db = 0.\n",
        "\n",
        "    for i in range(m):\n",
        "        err = (np.dot(X[i], w) + b) - y[i]\n",
        "        for j in range(n):\n",
        "            dj_dw[j] = dj_dw[j] + err * X[i, j]\n",
        "        dj_db = dj_db + err\n",
        "    dj_dw = dj_dw / m\n",
        "    dj_db = dj_db / m\n",
        "\n",
        "    return dj_db, dj_dw"
      ],
      "metadata": {
        "id": "OJoDAXn2_ZPt"
      },
      "execution_count": 155,
      "outputs": []
    },
    {
      "cell_type": "code",
      "source": [
        "def gradient_descent(x_train,y_train,w_in,b_in):\n",
        "\n",
        "    w = w_in  #avoid modifying global w within function\n",
        "    b = b_in\n",
        "\n",
        "    for i in range(1000):\n",
        "\n",
        "        # Calculate the gradient and update the parameters\n",
        "        dj_db,dj_dw = compute_gradient(x_train, y_train, w, b)   ##None\n",
        "\n",
        "        # Update Parameters using w, b, alpha and gradient\n",
        "        w = w - 0.01 * dj_dw               ##None\n",
        "        b = b - 0.01 * dj_db               ##None\n",
        "\n",
        "    return w,b"
      ],
      "metadata": {
        "id": "hW8p2cTNU74W"
      },
      "execution_count": 156,
      "outputs": []
    },
    {
      "cell_type": "code",
      "source": [
        "x_train = x_train.astype(np.float64)\n",
        "x_train,x_std,x_mean = z_score(x_train)\n",
        "\n",
        "np.random.seed(2147483647)\n",
        "w = np.random.randn(x_train.shape[1])\n",
        "b = np.random.randn(1)\n",
        "\n",
        "old_cost = 0\n",
        "\n",
        "while abs(old_cost - cost(x_train,y_train,w,b))>0.00001:\n",
        "  old_cost = cost(x_train,y_train,w,b)\n",
        "  w,b = gradient_descent(x_train,y_train,w,b)\n",
        "\n",
        "x_predict = pd.read_excel('Test data.xlsx').iloc[:,:8].to_numpy()\n",
        "x_predict = feature_changing(x_predict)\n",
        "x_predict = (x_predict - x_mean)/x_std\n",
        "ans = pd.read_excel('Test data.xlsx').iloc[:,8].to_numpy()\n",
        "\n",
        "y_predict = np.dot(x_predict,w) + b\n",
        "\n",
        "accuracy = 0\n",
        "for dim in range(len(ans)):\n",
        "  if abs(y_predict[dim]-ans[dim])<0.5: # do not change the tolerance as you'll be checked on +- 0.5 error only\n",
        "    accuracy += 1\n",
        "accuracy = round(accuracy*100/200.0,2)\n",
        "ok = 'Congratulations' if accuracy>95 else 'Optimization required'\n",
        "print(f\"{ok}, your accuracy is {accuracy}%\")"
      ],
      "metadata": {
        "id": "Kl-fioJ5WkYn",
        "colab": {
          "base_uri": "https://localhost:8080/"
        },
        "outputId": "6b362d25-021f-4f19-ae12-b25a3f973115"
      },
      "execution_count": 157,
      "outputs": [
        {
          "output_type": "stream",
          "name": "stderr",
          "text": [
            "<ipython-input-155-4dd75af69efc>:21: DeprecationWarning: Conversion of an array with ndim > 0 to a scalar is deprecated, and will error in future. Ensure you extract a single element from your array before performing this operation. (Deprecated NumPy 1.25.)\n",
            "  dj_dw[j] = dj_dw[j] + err * X[i, j]\n"
          ]
        },
        {
          "output_type": "stream",
          "name": "stdout",
          "text": [
            "Congratulations, your accuracy is 100.0%\n"
          ]
        }
      ]
    }
  ]
}