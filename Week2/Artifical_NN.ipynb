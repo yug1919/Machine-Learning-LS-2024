{
  "nbformat": 4,
  "nbformat_minor": 0,
  "metadata": {
    "colab": {
      "provenance": []
    },
    "kernelspec": {
      "name": "python3",
      "display_name": "Python 3"
    },
    "language_info": {
      "name": "python"
    }
  },
  "cells": [
    {
      "cell_type": "code",
      "execution_count": 230,
      "metadata": {
        "id": "AdTWco_Z89_0"
      },
      "outputs": [],
      "source": [
        "import tensorflow as tf\n",
        "from tensorflow import keras\n",
        "from tensorflow.keras import layers\n",
        "from keras import optimizers\n",
        "from keras import regularizers\n",
        "# from tensorflow.keras import models\n",
        "# from tensorflow.keras.models import Sequential\n",
        "\n",
        "from tensorflow.keras.preprocessing.image import ImageDataGenerator"
      ]
    },
    {
      "cell_type": "code",
      "source": [
        "img_height = 64\n",
        "img_width = 64\n",
        "batch_size = 32"
      ],
      "metadata": {
        "id": "vBA-1RDu-K4p"
      },
      "execution_count": 231,
      "outputs": []
    },
    {
      "cell_type": "code",
      "source": [
        "ds_train = tf.keras.preprocessing.image_dataset_from_directory(\n",
        "    '/content/drive/MyDrive/Colab Notebooks/Machine_Learning_LS_2024/Week_2/homer_bart/',\n",
        "    labels='inferred', # gets the dataset in alphabetical order\n",
        "    label_mode=\"categorical\",\n",
        "    class_names = ['Bart', 'Homer'],\n",
        "    color_mode = 'rgb',\n",
        "    batch_size = batch_size,\n",
        "    image_size = (img_height, img_width),\n",
        "    shuffle = True,\n",
        "    seed = 123,\n",
        "    validation_split = 0.1,\n",
        "    subset = \"training\"\n",
        ")"
      ],
      "metadata": {
        "colab": {
          "base_uri": "https://localhost:8080/"
        },
        "id": "0hDRuv9G-Xbb",
        "outputId": "71dcf36d-d851-447a-a57c-161eb72e5910"
      },
      "execution_count": 232,
      "outputs": [
        {
          "output_type": "stream",
          "name": "stdout",
          "text": [
            "Found 269 files belonging to 2 classes.\n",
            "Using 243 files for training.\n"
          ]
        }
      ]
    },
    {
      "cell_type": "code",
      "source": [
        "model = keras.Sequential(\n",
        "    [\n",
        "        keras.layers.Flatten(input_shape=(img_height, img_width, 3)),\n",
        "        layers.Dense(128, activation = 'relu'),\n",
        "        layers.Dense(256, activation = 'relu'),\n",
        "        # for regularization first import regularizers from keras then type\n",
        "        # kernel_regularizer = regularizers.l2(0.01) in any layer description\n",
        "        layers.Dense(256, activation = 'relu'),\n",
        "        layers.Dense(2, activation = 'sigmoid'),\n",
        "    ]\n",
        ")\n",
        "\n",
        "# print(model.summary())\n",
        "\n",
        "# import sys\n",
        "# sys.exit()"
      ],
      "metadata": {
        "id": "EZS_3xf4B1hp"
      },
      "execution_count": 233,
      "outputs": []
    },
    {
      "cell_type": "code",
      "source": [
        "model.compile(\n",
        "    loss = keras.losses.CategoricalCrossentropy(),\n",
        "    optimizer = keras.optimizers.Adam(learning_rate=0.001),\n",
        "    metrics = ['accuracy']\n",
        ")"
      ],
      "metadata": {
        "id": "FpM6IKvHEy8L"
      },
      "execution_count": 234,
      "outputs": []
    },
    {
      "cell_type": "code",
      "source": [
        "model.fit(ds_train, batch_size = batch_size, epochs=30, verbose=2)"
      ],
      "metadata": {
        "colab": {
          "base_uri": "https://localhost:8080/"
        },
        "id": "THfSIud5HUBP",
        "outputId": "0fb2f307-967c-477e-d766-e10718b98622"
      },
      "execution_count": 235,
      "outputs": [
        {
          "output_type": "stream",
          "name": "stdout",
          "text": [
            "Epoch 1/30\n",
            "8/8 - 2s - loss: 655.4794 - accuracy: 0.4856 - 2s/epoch - 264ms/step\n",
            "Epoch 2/30\n",
            "8/8 - 1s - loss: 488.9772 - accuracy: 0.5309 - 1s/epoch - 157ms/step\n",
            "Epoch 3/30\n",
            "8/8 - 1s - loss: 275.5503 - accuracy: 0.5473 - 1s/epoch - 158ms/step\n",
            "Epoch 4/30\n",
            "8/8 - 2s - loss: 59.2849 - accuracy: 0.6749 - 2s/epoch - 209ms/step\n",
            "Epoch 5/30\n",
            "8/8 - 1s - loss: 120.5360 - accuracy: 0.5267 - 1s/epoch - 151ms/step\n",
            "Epoch 6/30\n",
            "8/8 - 1s - loss: 126.8824 - accuracy: 0.5350 - 1s/epoch - 146ms/step\n",
            "Epoch 7/30\n",
            "8/8 - 1s - loss: 57.0897 - accuracy: 0.6543 - 1s/epoch - 156ms/step\n",
            "Epoch 8/30\n",
            "8/8 - 1s - loss: 21.7263 - accuracy: 0.7243 - 1s/epoch - 161ms/step\n",
            "Epoch 9/30\n",
            "8/8 - 1s - loss: 16.6181 - accuracy: 0.7325 - 1s/epoch - 155ms/step\n",
            "Epoch 10/30\n",
            "8/8 - 1s - loss: 20.1167 - accuracy: 0.6749 - 1s/epoch - 159ms/step\n",
            "Epoch 11/30\n",
            "8/8 - 1s - loss: 15.6185 - accuracy: 0.6543 - 1s/epoch - 160ms/step\n",
            "Epoch 12/30\n",
            "8/8 - 2s - loss: 21.0916 - accuracy: 0.7119 - 2s/epoch - 207ms/step\n",
            "Epoch 13/30\n",
            "8/8 - 1s - loss: 12.3707 - accuracy: 0.7284 - 1s/epoch - 153ms/step\n",
            "Epoch 14/30\n",
            "8/8 - 1s - loss: 21.3802 - accuracy: 0.6790 - 1s/epoch - 163ms/step\n",
            "Epoch 15/30\n",
            "8/8 - 1s - loss: 11.3563 - accuracy: 0.8025 - 1s/epoch - 159ms/step\n",
            "Epoch 16/30\n",
            "8/8 - 1s - loss: 9.6093 - accuracy: 0.7119 - 1s/epoch - 160ms/step\n",
            "Epoch 17/30\n",
            "8/8 - 1s - loss: 6.9268 - accuracy: 0.7819 - 1s/epoch - 162ms/step\n",
            "Epoch 18/30\n",
            "8/8 - 1s - loss: 3.3381 - accuracy: 0.8642 - 1s/epoch - 173ms/step\n",
            "Epoch 19/30\n",
            "8/8 - 2s - loss: 3.0332 - accuracy: 0.8272 - 2s/epoch - 211ms/step\n",
            "Epoch 20/30\n",
            "8/8 - 1s - loss: 6.1802 - accuracy: 0.7490 - 1s/epoch - 155ms/step\n",
            "Epoch 21/30\n",
            "8/8 - 1s - loss: 2.6622 - accuracy: 0.8560 - 1s/epoch - 160ms/step\n",
            "Epoch 22/30\n",
            "8/8 - 1s - loss: 1.4943 - accuracy: 0.9053 - 1s/epoch - 163ms/step\n",
            "Epoch 23/30\n",
            "8/8 - 1s - loss: 1.4690 - accuracy: 0.8848 - 1s/epoch - 157ms/step\n",
            "Epoch 24/30\n",
            "8/8 - 1s - loss: 9.8071 - accuracy: 0.7366 - 1s/epoch - 163ms/step\n",
            "Epoch 25/30\n",
            "8/8 - 1s - loss: 7.8617 - accuracy: 0.7037 - 1s/epoch - 186ms/step\n",
            "Epoch 26/30\n",
            "8/8 - 2s - loss: 3.3629 - accuracy: 0.8148 - 2s/epoch - 207ms/step\n",
            "Epoch 27/30\n",
            "8/8 - 1s - loss: 3.0773 - accuracy: 0.8436 - 1s/epoch - 155ms/step\n",
            "Epoch 28/30\n",
            "8/8 - 1s - loss: 2.2653 - accuracy: 0.8642 - 1s/epoch - 160ms/step\n",
            "Epoch 29/30\n",
            "8/8 - 1s - loss: 0.4562 - accuracy: 0.9630 - 1s/epoch - 157ms/step\n",
            "Epoch 30/30\n",
            "8/8 - 1s - loss: 0.4619 - accuracy: 0.9424 - 1s/epoch - 166ms/step\n"
          ]
        },
        {
          "output_type": "execute_result",
          "data": {
            "text/plain": [
              "<keras.src.callbacks.History at 0x7fb77dd6ad10>"
            ]
          },
          "metadata": {},
          "execution_count": 235
        }
      ]
    },
    {
      "cell_type": "code",
      "source": [
        "model.evaluate(ds_train, batch_size = batch_size, verbose=2 )"
      ],
      "metadata": {
        "colab": {
          "base_uri": "https://localhost:8080/"
        },
        "id": "BhE8EZhWKcKC",
        "outputId": "0eb6d160-efc4-43d6-a36a-42c06fc5ae37"
      },
      "execution_count": 236,
      "outputs": [
        {
          "output_type": "stream",
          "name": "stdout",
          "text": [
            "8/8 - 1s - loss: 0.2112 - accuracy: 0.9588 - 1s/epoch - 165ms/step\n"
          ]
        },
        {
          "output_type": "execute_result",
          "data": {
            "text/plain": [
              "[0.21120302379131317, 0.9588477611541748]"
            ]
          },
          "metadata": {},
          "execution_count": 236
        }
      ]
    },
    {
      "cell_type": "code",
      "source": [],
      "metadata": {
        "id": "t7OVd-abTepH"
      },
      "execution_count": 236,
      "outputs": []
    }
  ]
}